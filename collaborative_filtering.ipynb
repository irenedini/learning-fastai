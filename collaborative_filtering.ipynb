{
  "nbformat": 4,
  "nbformat_minor": 0,
  "metadata": {
    "colab": {
      "name": "Collaborative_filtering.pynb",
      "provenance": [],
      "collapsed_sections": [],
      "authorship_tag": "ABX9TyM0G8aAhhaM8X6K6MhPs9GA",
      "include_colab_link": true
    },
    "kernelspec": {
      "name": "python3",
      "display_name": "Python 3"
    },
    "accelerator": "GPU"
  },
  "cells": [
    {
      "cell_type": "markdown",
      "metadata": {
        "id": "view-in-github",
        "colab_type": "text"
      },
      "source": [
        "<a href=\"https://colab.research.google.com/github/irenedini/learning-fastai/blob/main/collaborative_filtering.ipynb\" target=\"_parent\"><img src=\"https://colab.research.google.com/assets/colab-badge.svg\" alt=\"Open In Colab\"/></a>"
      ]
    },
    {
      "cell_type": "code",
      "metadata": {
        "id": "YXkRI-XLg8BP",
        "outputId": "291a5f98-2707-43c2-9f84-c5d6582650d1",
        "colab": {
          "base_uri": "https://localhost:8080/",
          "height": 218
        }
      },
      "source": [
        "!pip install -Uqq fastbook\n",
        "import fastbook\n",
        "fastbook.setup_book()"
      ],
      "execution_count": 1,
      "outputs": [
        {
          "output_type": "stream",
          "text": [
            "\u001b[?25l\r\u001b[K     |▌                               | 10kB 31.6MB/s eta 0:00:01\r\u001b[K     |█                               | 20kB 23.3MB/s eta 0:00:01\r\u001b[K     |█▍                              | 30kB 17.0MB/s eta 0:00:01\r\u001b[K     |█▉                              | 40kB 12.4MB/s eta 0:00:01\r\u001b[K     |██▎                             | 51kB 11.3MB/s eta 0:00:01\r\u001b[K     |██▊                             | 61kB 10.9MB/s eta 0:00:01\r\u001b[K     |███▏                            | 71kB 10.6MB/s eta 0:00:01\r\u001b[K     |███▋                            | 81kB 9.8MB/s eta 0:00:01\r\u001b[K     |████                            | 92kB 9.7MB/s eta 0:00:01\r\u001b[K     |████▌                           | 102kB 9.9MB/s eta 0:00:01\r\u001b[K     |█████                           | 112kB 9.9MB/s eta 0:00:01\r\u001b[K     |█████▌                          | 122kB 9.9MB/s eta 0:00:01\r\u001b[K     |██████                          | 133kB 9.9MB/s eta 0:00:01\r\u001b[K     |██████▍                         | 143kB 9.9MB/s eta 0:00:01\r\u001b[K     |██████▉                         | 153kB 9.9MB/s eta 0:00:01\r\u001b[K     |███████▎                        | 163kB 9.9MB/s eta 0:00:01\r\u001b[K     |███████▊                        | 174kB 9.9MB/s eta 0:00:01\r\u001b[K     |████████▏                       | 184kB 9.9MB/s eta 0:00:01\r\u001b[K     |████████▋                       | 194kB 9.9MB/s eta 0:00:01\r\u001b[K     |█████████                       | 204kB 9.9MB/s eta 0:00:01\r\u001b[K     |█████████▋                      | 215kB 9.9MB/s eta 0:00:01\r\u001b[K     |██████████                      | 225kB 9.9MB/s eta 0:00:01\r\u001b[K     |██████████▌                     | 235kB 9.9MB/s eta 0:00:01\r\u001b[K     |███████████                     | 245kB 9.9MB/s eta 0:00:01\r\u001b[K     |███████████▍                    | 256kB 9.9MB/s eta 0:00:01\r\u001b[K     |███████████▉                    | 266kB 9.9MB/s eta 0:00:01\r\u001b[K     |████████████▎                   | 276kB 9.9MB/s eta 0:00:01\r\u001b[K     |████████████▊                   | 286kB 9.9MB/s eta 0:00:01\r\u001b[K     |█████████████▏                  | 296kB 9.9MB/s eta 0:00:01\r\u001b[K     |█████████████▋                  | 307kB 9.9MB/s eta 0:00:01\r\u001b[K     |██████████████▏                 | 317kB 9.9MB/s eta 0:00:01\r\u001b[K     |██████████████▋                 | 327kB 9.9MB/s eta 0:00:01\r\u001b[K     |███████████████                 | 337kB 9.9MB/s eta 0:00:01\r\u001b[K     |███████████████▌                | 348kB 9.9MB/s eta 0:00:01\r\u001b[K     |████████████████                | 358kB 9.9MB/s eta 0:00:01\r\u001b[K     |████████████████▍               | 368kB 9.9MB/s eta 0:00:01\r\u001b[K     |████████████████▉               | 378kB 9.9MB/s eta 0:00:01\r\u001b[K     |█████████████████▎              | 389kB 9.9MB/s eta 0:00:01\r\u001b[K     |█████████████████▊              | 399kB 9.9MB/s eta 0:00:01\r\u001b[K     |██████████████████▏             | 409kB 9.9MB/s eta 0:00:01\r\u001b[K     |██████████████████▊             | 419kB 9.9MB/s eta 0:00:01\r\u001b[K     |███████████████████▏            | 430kB 9.9MB/s eta 0:00:01\r\u001b[K     |███████████████████▋            | 440kB 9.9MB/s eta 0:00:01\r\u001b[K     |████████████████████            | 450kB 9.9MB/s eta 0:00:01\r\u001b[K     |████████████████████▌           | 460kB 9.9MB/s eta 0:00:01\r\u001b[K     |█████████████████████           | 471kB 9.9MB/s eta 0:00:01\r\u001b[K     |█████████████████████▍          | 481kB 9.9MB/s eta 0:00:01\r\u001b[K     |█████████████████████▉          | 491kB 9.9MB/s eta 0:00:01\r\u001b[K     |██████████████████████▎         | 501kB 9.9MB/s eta 0:00:01\r\u001b[K     |██████████████████████▊         | 512kB 9.9MB/s eta 0:00:01\r\u001b[K     |███████████████████████▎        | 522kB 9.9MB/s eta 0:00:01\r\u001b[K     |███████████████████████▊        | 532kB 9.9MB/s eta 0:00:01\r\u001b[K     |████████████████████████▏       | 542kB 9.9MB/s eta 0:00:01\r\u001b[K     |████████████████████████▋       | 552kB 9.9MB/s eta 0:00:01\r\u001b[K     |█████████████████████████       | 563kB 9.9MB/s eta 0:00:01\r\u001b[K     |█████████████████████████▌      | 573kB 9.9MB/s eta 0:00:01\r\u001b[K     |██████████████████████████      | 583kB 9.9MB/s eta 0:00:01\r\u001b[K     |██████████████████████████▍     | 593kB 9.9MB/s eta 0:00:01\r\u001b[K     |██████████████████████████▉     | 604kB 9.9MB/s eta 0:00:01\r\u001b[K     |███████████████████████████▎    | 614kB 9.9MB/s eta 0:00:01\r\u001b[K     |███████████████████████████▉    | 624kB 9.9MB/s eta 0:00:01\r\u001b[K     |████████████████████████████▎   | 634kB 9.9MB/s eta 0:00:01\r\u001b[K     |████████████████████████████▊   | 645kB 9.9MB/s eta 0:00:01\r\u001b[K     |█████████████████████████████▏  | 655kB 9.9MB/s eta 0:00:01\r\u001b[K     |█████████████████████████████▋  | 665kB 9.9MB/s eta 0:00:01\r\u001b[K     |██████████████████████████████  | 675kB 9.9MB/s eta 0:00:01\r\u001b[K     |██████████████████████████████▌ | 686kB 9.9MB/s eta 0:00:01\r\u001b[K     |███████████████████████████████ | 696kB 9.9MB/s eta 0:00:01\r\u001b[K     |███████████████████████████████▍| 706kB 9.9MB/s eta 0:00:01\r\u001b[K     |███████████████████████████████▉| 716kB 9.9MB/s eta 0:00:01\r\u001b[K     |████████████████████████████████| 727kB 9.9MB/s \n",
            "\u001b[K     |████████████████████████████████| 51kB 8.3MB/s \n",
            "\u001b[K     |████████████████████████████████| 194kB 53.0MB/s \n",
            "\u001b[K     |████████████████████████████████| 51kB 8.6MB/s \n",
            "\u001b[K     |████████████████████████████████| 1.0MB 57.8MB/s \n",
            "\u001b[K     |████████████████████████████████| 51kB 8.2MB/s \n",
            "\u001b[K     |████████████████████████████████| 40kB 7.4MB/s \n",
            "\u001b[K     |████████████████████████████████| 92kB 13.5MB/s \n",
            "\u001b[K     |████████████████████████████████| 61kB 10.3MB/s \n",
            "\u001b[K     |████████████████████████████████| 51kB 8.9MB/s \n",
            "\u001b[K     |████████████████████████████████| 2.6MB 57.0MB/s \n",
            "\u001b[?25hMounted at /content/gdrive\n"
          ],
          "name": "stdout"
        }
      ]
    },
    {
      "cell_type": "code",
      "metadata": {
        "id": "SNhMcmbNg_-d"
      },
      "source": [
        "from fastbook import *\n",
        "from fastai.collab import *\n",
        "from fastai.tabular.all import *"
      ],
      "execution_count": 2,
      "outputs": []
    },
    {
      "cell_type": "code",
      "metadata": {
        "id": "l9NNiDBkhMKh",
        "outputId": "7b4fa872-260a-4199-fd20-2a905f072a90",
        "colab": {
          "base_uri": "https://localhost:8080/",
          "height": 17
        }
      },
      "source": [
        "path = untar_data(URLs.ML_100k)"
      ],
      "execution_count": 3,
      "outputs": [
        {
          "output_type": "display_data",
          "data": {
            "text/html": [
              ""
            ],
            "text/plain": [
              "<IPython.core.display.HTML object>"
            ]
          },
          "metadata": {
            "tags": []
          }
        }
      ]
    },
    {
      "cell_type": "code",
      "metadata": {
        "id": "XF21f2tlhSBw",
        "outputId": "e75f5aa6-4398-4651-e5ec-f01faeccf428",
        "colab": {
          "base_uri": "https://localhost:8080/",
          "height": 54
        }
      },
      "source": [
        "path.ls()"
      ],
      "execution_count": 4,
      "outputs": [
        {
          "output_type": "execute_result",
          "data": {
            "text/plain": [
              "(#23) [Path('/root/.fastai/data/ml-100k/u.data'),Path('/root/.fastai/data/ml-100k/allbut.pl'),Path('/root/.fastai/data/ml-100k/u4.base'),Path('/root/.fastai/data/ml-100k/u1.test'),Path('/root/.fastai/data/ml-100k/u.user'),Path('/root/.fastai/data/ml-100k/u.genre'),Path('/root/.fastai/data/ml-100k/u3.base'),Path('/root/.fastai/data/ml-100k/u5.base'),Path('/root/.fastai/data/ml-100k/u1.base'),Path('/root/.fastai/data/ml-100k/ua.base')...]"
            ]
          },
          "metadata": {
            "tags": []
          },
          "execution_count": 4
        }
      ]
    },
    {
      "cell_type": "code",
      "metadata": {
        "id": "9OM72Ao5h9Xt",
        "outputId": "3a31e9be-af0b-4161-e56b-4ce590723a3e",
        "colab": {
          "base_uri": "https://localhost:8080/",
          "height": 195
        }
      },
      "source": [
        "ratings = pd.read_csv(path/'u.data', delimiter='\\t', header=None, \n",
        "                      names=['User', 'Movie', 'Rating', 'Timestamp'])\n",
        "\n",
        "ratings.head()"
      ],
      "execution_count": 5,
      "outputs": [
        {
          "output_type": "execute_result",
          "data": {
            "text/html": [
              "<div>\n",
              "<style scoped>\n",
              "    .dataframe tbody tr th:only-of-type {\n",
              "        vertical-align: middle;\n",
              "    }\n",
              "\n",
              "    .dataframe tbody tr th {\n",
              "        vertical-align: top;\n",
              "    }\n",
              "\n",
              "    .dataframe thead th {\n",
              "        text-align: right;\n",
              "    }\n",
              "</style>\n",
              "<table border=\"1\" class=\"dataframe\">\n",
              "  <thead>\n",
              "    <tr style=\"text-align: right;\">\n",
              "      <th></th>\n",
              "      <th>User</th>\n",
              "      <th>Movie</th>\n",
              "      <th>Rating</th>\n",
              "      <th>Timestamp</th>\n",
              "    </tr>\n",
              "  </thead>\n",
              "  <tbody>\n",
              "    <tr>\n",
              "      <th>0</th>\n",
              "      <td>196</td>\n",
              "      <td>242</td>\n",
              "      <td>3</td>\n",
              "      <td>881250949</td>\n",
              "    </tr>\n",
              "    <tr>\n",
              "      <th>1</th>\n",
              "      <td>186</td>\n",
              "      <td>302</td>\n",
              "      <td>3</td>\n",
              "      <td>891717742</td>\n",
              "    </tr>\n",
              "    <tr>\n",
              "      <th>2</th>\n",
              "      <td>22</td>\n",
              "      <td>377</td>\n",
              "      <td>1</td>\n",
              "      <td>878887116</td>\n",
              "    </tr>\n",
              "    <tr>\n",
              "      <th>3</th>\n",
              "      <td>244</td>\n",
              "      <td>51</td>\n",
              "      <td>2</td>\n",
              "      <td>880606923</td>\n",
              "    </tr>\n",
              "    <tr>\n",
              "      <th>4</th>\n",
              "      <td>166</td>\n",
              "      <td>346</td>\n",
              "      <td>1</td>\n",
              "      <td>886397596</td>\n",
              "    </tr>\n",
              "  </tbody>\n",
              "</table>\n",
              "</div>"
            ],
            "text/plain": [
              "   User  Movie  Rating  Timestamp\n",
              "0   196    242       3  881250949\n",
              "1   186    302       3  891717742\n",
              "2    22    377       1  878887116\n",
              "3   244     51       2  880606923\n",
              "4   166    346       1  886397596"
            ]
          },
          "metadata": {
            "tags": []
          },
          "execution_count": 5
        }
      ]
    },
    {
      "cell_type": "code",
      "metadata": {
        "id": "l9u1iKBEicB3",
        "outputId": "2d402c49-4c41-4bfc-e400-2ddfde20430d",
        "colab": {
          "base_uri": "https://localhost:8080/",
          "height": 195
        }
      },
      "source": [
        "movies = pd.read_csv(path/'u.item', delimiter='|', encoding='latin-1', \n",
        "                     usecols=(0,1), header=None, names=('Movie', 'Title'))\n",
        "\n",
        "movies.head()"
      ],
      "execution_count": 6,
      "outputs": [
        {
          "output_type": "execute_result",
          "data": {
            "text/html": [
              "<div>\n",
              "<style scoped>\n",
              "    .dataframe tbody tr th:only-of-type {\n",
              "        vertical-align: middle;\n",
              "    }\n",
              "\n",
              "    .dataframe tbody tr th {\n",
              "        vertical-align: top;\n",
              "    }\n",
              "\n",
              "    .dataframe thead th {\n",
              "        text-align: right;\n",
              "    }\n",
              "</style>\n",
              "<table border=\"1\" class=\"dataframe\">\n",
              "  <thead>\n",
              "    <tr style=\"text-align: right;\">\n",
              "      <th></th>\n",
              "      <th>Movie</th>\n",
              "      <th>Title</th>\n",
              "    </tr>\n",
              "  </thead>\n",
              "  <tbody>\n",
              "    <tr>\n",
              "      <th>0</th>\n",
              "      <td>1</td>\n",
              "      <td>Toy Story (1995)</td>\n",
              "    </tr>\n",
              "    <tr>\n",
              "      <th>1</th>\n",
              "      <td>2</td>\n",
              "      <td>GoldenEye (1995)</td>\n",
              "    </tr>\n",
              "    <tr>\n",
              "      <th>2</th>\n",
              "      <td>3</td>\n",
              "      <td>Four Rooms (1995)</td>\n",
              "    </tr>\n",
              "    <tr>\n",
              "      <th>3</th>\n",
              "      <td>4</td>\n",
              "      <td>Get Shorty (1995)</td>\n",
              "    </tr>\n",
              "    <tr>\n",
              "      <th>4</th>\n",
              "      <td>5</td>\n",
              "      <td>Copycat (1995)</td>\n",
              "    </tr>\n",
              "  </tbody>\n",
              "</table>\n",
              "</div>"
            ],
            "text/plain": [
              "   Movie              Title\n",
              "0      1   Toy Story (1995)\n",
              "1      2   GoldenEye (1995)\n",
              "2      3  Four Rooms (1995)\n",
              "3      4  Get Shorty (1995)\n",
              "4      5     Copycat (1995)"
            ]
          },
          "metadata": {
            "tags": []
          },
          "execution_count": 6
        }
      ]
    },
    {
      "cell_type": "code",
      "metadata": {
        "id": "qpL6s0IjlpRO",
        "outputId": "9f4a445f-2ced-4ee9-8919-77df8ed81f92",
        "colab": {
          "base_uri": "https://localhost:8080/",
          "height": 195
        }
      },
      "source": [
        "ratings = ratings.merge(movies)\n",
        "\n",
        "ratings.head()"
      ],
      "execution_count": 7,
      "outputs": [
        {
          "output_type": "execute_result",
          "data": {
            "text/html": [
              "<div>\n",
              "<style scoped>\n",
              "    .dataframe tbody tr th:only-of-type {\n",
              "        vertical-align: middle;\n",
              "    }\n",
              "\n",
              "    .dataframe tbody tr th {\n",
              "        vertical-align: top;\n",
              "    }\n",
              "\n",
              "    .dataframe thead th {\n",
              "        text-align: right;\n",
              "    }\n",
              "</style>\n",
              "<table border=\"1\" class=\"dataframe\">\n",
              "  <thead>\n",
              "    <tr style=\"text-align: right;\">\n",
              "      <th></th>\n",
              "      <th>User</th>\n",
              "      <th>Movie</th>\n",
              "      <th>Rating</th>\n",
              "      <th>Timestamp</th>\n",
              "      <th>Title</th>\n",
              "    </tr>\n",
              "  </thead>\n",
              "  <tbody>\n",
              "    <tr>\n",
              "      <th>0</th>\n",
              "      <td>196</td>\n",
              "      <td>242</td>\n",
              "      <td>3</td>\n",
              "      <td>881250949</td>\n",
              "      <td>Kolya (1996)</td>\n",
              "    </tr>\n",
              "    <tr>\n",
              "      <th>1</th>\n",
              "      <td>63</td>\n",
              "      <td>242</td>\n",
              "      <td>3</td>\n",
              "      <td>875747190</td>\n",
              "      <td>Kolya (1996)</td>\n",
              "    </tr>\n",
              "    <tr>\n",
              "      <th>2</th>\n",
              "      <td>226</td>\n",
              "      <td>242</td>\n",
              "      <td>5</td>\n",
              "      <td>883888671</td>\n",
              "      <td>Kolya (1996)</td>\n",
              "    </tr>\n",
              "    <tr>\n",
              "      <th>3</th>\n",
              "      <td>154</td>\n",
              "      <td>242</td>\n",
              "      <td>3</td>\n",
              "      <td>879138235</td>\n",
              "      <td>Kolya (1996)</td>\n",
              "    </tr>\n",
              "    <tr>\n",
              "      <th>4</th>\n",
              "      <td>306</td>\n",
              "      <td>242</td>\n",
              "      <td>5</td>\n",
              "      <td>876503793</td>\n",
              "      <td>Kolya (1996)</td>\n",
              "    </tr>\n",
              "  </tbody>\n",
              "</table>\n",
              "</div>"
            ],
            "text/plain": [
              "   User  Movie  Rating  Timestamp         Title\n",
              "0   196    242       3  881250949  Kolya (1996)\n",
              "1    63    242       3  875747190  Kolya (1996)\n",
              "2   226    242       5  883888671  Kolya (1996)\n",
              "3   154    242       3  879138235  Kolya (1996)\n",
              "4   306    242       5  876503793  Kolya (1996)"
            ]
          },
          "metadata": {
            "tags": []
          },
          "execution_count": 7
        }
      ]
    },
    {
      "cell_type": "code",
      "metadata": {
        "id": "_gJDcDlAlyQd",
        "outputId": "b718843e-bcce-40ed-f315-23a64a589ac5",
        "colab": {
          "base_uri": "https://localhost:8080/",
          "height": 343
        }
      },
      "source": [
        "dls = CollabDataLoaders.from_df(ratings, item_name='Title', bs=64)\n",
        "\n",
        "dls.show_batch()"
      ],
      "execution_count": 8,
      "outputs": [
        {
          "output_type": "display_data",
          "data": {
            "text/html": [
              "<table border=\"1\" class=\"dataframe\">\n",
              "  <thead>\n",
              "    <tr style=\"text-align: right;\">\n",
              "      <th></th>\n",
              "      <th>User</th>\n",
              "      <th>Title</th>\n",
              "      <th>Rating</th>\n",
              "    </tr>\n",
              "  </thead>\n",
              "  <tbody>\n",
              "    <tr>\n",
              "      <th>0</th>\n",
              "      <td>542</td>\n",
              "      <td>My Left Foot (1989)</td>\n",
              "      <td>4</td>\n",
              "    </tr>\n",
              "    <tr>\n",
              "      <th>1</th>\n",
              "      <td>422</td>\n",
              "      <td>Event Horizon (1997)</td>\n",
              "      <td>3</td>\n",
              "    </tr>\n",
              "    <tr>\n",
              "      <th>2</th>\n",
              "      <td>311</td>\n",
              "      <td>African Queen, The (1951)</td>\n",
              "      <td>4</td>\n",
              "    </tr>\n",
              "    <tr>\n",
              "      <th>3</th>\n",
              "      <td>595</td>\n",
              "      <td>Face/Off (1997)</td>\n",
              "      <td>4</td>\n",
              "    </tr>\n",
              "    <tr>\n",
              "      <th>4</th>\n",
              "      <td>617</td>\n",
              "      <td>Evil Dead II (1987)</td>\n",
              "      <td>1</td>\n",
              "    </tr>\n",
              "    <tr>\n",
              "      <th>5</th>\n",
              "      <td>158</td>\n",
              "      <td>Jurassic Park (1993)</td>\n",
              "      <td>5</td>\n",
              "    </tr>\n",
              "    <tr>\n",
              "      <th>6</th>\n",
              "      <td>836</td>\n",
              "      <td>Chasing Amy (1997)</td>\n",
              "      <td>3</td>\n",
              "    </tr>\n",
              "    <tr>\n",
              "      <th>7</th>\n",
              "      <td>474</td>\n",
              "      <td>Emma (1996)</td>\n",
              "      <td>3</td>\n",
              "    </tr>\n",
              "    <tr>\n",
              "      <th>8</th>\n",
              "      <td>466</td>\n",
              "      <td>Jackie Chan's First Strike (1996)</td>\n",
              "      <td>3</td>\n",
              "    </tr>\n",
              "    <tr>\n",
              "      <th>9</th>\n",
              "      <td>554</td>\n",
              "      <td>Scream (1996)</td>\n",
              "      <td>3</td>\n",
              "    </tr>\n",
              "  </tbody>\n",
              "</table>"
            ],
            "text/plain": [
              "<IPython.core.display.HTML object>"
            ]
          },
          "metadata": {
            "tags": []
          }
        }
      ]
    },
    {
      "cell_type": "code",
      "metadata": {
        "id": "61FfQfWPmlGo"
      },
      "source": [
        "learner = collab_learner(dls, n_factors=50, y_range=(0, 5.5))"
      ],
      "execution_count": 9,
      "outputs": []
    },
    {
      "cell_type": "code",
      "metadata": {
        "id": "T2pfehnAm6DF",
        "outputId": "230c340d-c14d-49f2-d6e5-742c2c722dcf",
        "colab": {
          "base_uri": "https://localhost:8080/",
          "height": 300
        }
      },
      "source": [
        "learner.lr_find()"
      ],
      "execution_count": 10,
      "outputs": [
        {
          "output_type": "display_data",
          "data": {
            "text/html": [
              ""
            ],
            "text/plain": [
              "<IPython.core.display.HTML object>"
            ]
          },
          "metadata": {
            "tags": []
          }
        },
        {
          "output_type": "execute_result",
          "data": {
            "text/plain": [
              "SuggestedLRs(lr_min=0.03019951581954956, lr_steep=1.9054607491852948e-06)"
            ]
          },
          "metadata": {
            "tags": []
          },
          "execution_count": 10
        },
        {
          "output_type": "display_data",
          "data": {
            "image/png": "[encoded data removed]",
            "text/plain": [
              "<Figure size 432x288 with 1 Axes>"
            ]
          },
          "metadata": {
            "tags": [],
            "needs_background": "light"
          }
        }
      ]
    },
    {
      "cell_type": "code",
      "metadata": {
        "id": "Njv0xDhgnHBd",
        "outputId": "7d9fcff0-78e8-4464-892c-d8e7732c44dd",
        "colab": {
          "base_uri": "https://localhost:8080/",
          "height": 195
        }
      },
      "source": [
        "learner.fit_one_cycle(5, 3e-2, wd=0.1)"
      ],
      "execution_count": 11,
      "outputs": [
        {
          "output_type": "display_data",
          "data": {
            "text/html": [
              "<table border=\"1\" class=\"dataframe\">\n",
              "  <thead>\n",
              "    <tr style=\"text-align: left;\">\n",
              "      <th>epoch</th>\n",
              "      <th>train_loss</th>\n",
              "      <th>valid_loss</th>\n",
              "      <th>time</th>\n",
              "    </tr>\n",
              "  </thead>\n",
              "  <tbody>\n",
              "    <tr>\n",
              "      <td>0</td>\n",
              "      <td>1.238526</td>\n",
              "      <td>1.230687</td>\n",
              "      <td>00:09</td>\n",
              "    </tr>\n",
              "    <tr>\n",
              "      <td>1</td>\n",
              "      <td>1.256746</td>\n",
              "      <td>1.244428</td>\n",
              "      <td>00:09</td>\n",
              "    </tr>\n",
              "    <tr>\n",
              "      <td>2</td>\n",
              "      <td>1.042467</td>\n",
              "      <td>1.032976</td>\n",
              "      <td>00:09</td>\n",
              "    </tr>\n",
              "    <tr>\n",
              "      <td>3</td>\n",
              "      <td>0.812740</td>\n",
              "      <td>0.873431</td>\n",
              "      <td>00:09</td>\n",
              "    </tr>\n",
              "    <tr>\n",
              "      <td>4</td>\n",
              "      <td>0.544234</td>\n",
              "      <td>0.857120</td>\n",
              "      <td>00:09</td>\n",
              "    </tr>\n",
              "  </tbody>\n",
              "</table>"
            ],
            "text/plain": [
              "<IPython.core.display.HTML object>"
            ]
          },
          "metadata": {
            "tags": []
          }
        }
      ]
    },
    {
      "cell_type": "code",
      "metadata": {
        "id": "tlyR3FcttbOY",
        "outputId": "4deb9826-2457-4d67-bb75-b03386b4a227",
        "colab": {
          "base_uri": "https://localhost:8080/",
          "height": 118
        }
      },
      "source": [
        "learner.model"
      ],
      "execution_count": 12,
      "outputs": [
        {
          "output_type": "execute_result",
          "data": {
            "text/plain": [
              "EmbeddingDotBias(\n",
              "  (u_weight): Embedding(944, 50)\n",
              "  (i_weight): Embedding(1665, 50)\n",
              "  (u_bias): Embedding(944, 1)\n",
              "  (i_bias): Embedding(1665, 1)\n",
              ")"
            ]
          },
          "metadata": {
            "tags": []
          },
          "execution_count": 12
        }
      ]
    },
    {
      "cell_type": "code",
      "metadata": {
        "id": "6LnKRtzqtg0q",
        "outputId": "3020f2fc-adfe-4c01-8e32-39de6ab27e38",
        "colab": {
          "base_uri": "https://localhost:8080/",
          "height": 185
        }
      },
      "source": [
        "# \"best\" movies and \"worst\" movies according to model bias\n",
        "\n",
        "movie_bias = learner.model.i_bias.weight.data\n",
        "movie_bias_list = [movie_bias[i].item() for i in range(len(movie_bias))]\n",
        "sorted_indices = np.array(movie_bias_list).argsort()\n",
        "\n",
        "worst_movies = [dls.classes['Title'][i] for i in sorted_indices[:5]]\n",
        "best_movies = list(reversed([dls.classes['Title'][i] \n",
        "                             for i in (sorted_indices[-5:])]))\n",
        "\n",
        "worst_movies, best_movies"
      ],
      "execution_count": 13,
      "outputs": [
        {
          "output_type": "execute_result",
          "data": {
            "text/plain": [
              "(['Children of the Corn: The Gathering (1996)',\n",
              "  'Lawnmower Man 2: Beyond Cyberspace (1996)',\n",
              "  'Mortal Kombat: Annihilation (1997)',\n",
              "  'Spice World (1997)',\n",
              "  'Bio-Dome (1996)'],\n",
              " ['Shawshank Redemption, The (1994)',\n",
              "  'Star Wars (1977)',\n",
              "  'Casablanca (1942)',\n",
              "  \"Schindler's List (1993)\",\n",
              "  'Good Will Hunting (1997)'])"
            ]
          },
          "metadata": {
            "tags": []
          },
          "execution_count": 13
        }
      ]
    },
    {
      "cell_type": "code",
      "metadata": {
        "id": "R9-penuAjvlT"
      },
      "source": [
        "class CollabNN(Module):\n",
        "    def __init__(self, user_dim, movie_dim, n_act=100, y_range=(0, 5.5)):\n",
        "        self.user_factors = Embedding(*user_dim)\n",
        "        self.movie_factors = Embedding(*movie_dim)\n",
        "        self.layers = nn.Sequential(\n",
        "            nn.Linear(user_dim[1]+movie_dim[1], n_act),\n",
        "            nn.ReLU(),\n",
        "            nn.Linear(n_act, 1)\n",
        "        )\n",
        "        self.y_range = y_range\n",
        "    \n",
        "    def forward(self, x):\n",
        "        embs = self.user_factors(x[:,0]), self.movie_factors(x[:,1])\n",
        "        x = self.layers(torch.cat(embs, dim=1))\n",
        "        return sigmoid_range(x, *self.y_range)"
      ],
      "execution_count": 26,
      "outputs": []
    },
    {
      "cell_type": "code",
      "metadata": {
        "id": "aLGVh6croIwB",
        "outputId": "b1007868-d1a4-4f20-961c-b124136f3bb2",
        "colab": {
          "base_uri": "https://localhost:8080/",
          "height": 34
        }
      },
      "source": [
        "embedding_dims = get_emb_sz(dls)\n",
        "embedding_dims"
      ],
      "execution_count": 27,
      "outputs": [
        {
          "output_type": "execute_result",
          "data": {
            "text/plain": [
              "[(944, 74), (1665, 102)]"
            ]
          },
          "metadata": {
            "tags": []
          },
          "execution_count": 27
        }
      ]
    },
    {
      "cell_type": "code",
      "metadata": {
        "id": "Rd2nObXboVTe"
      },
      "source": [
        "model = CollabNN(*embedding_dims)"
      ],
      "execution_count": 28,
      "outputs": []
    },
    {
      "cell_type": "code",
      "metadata": {
        "id": "4oudzwHaoRlY",
        "outputId": "97088979-a4fd-4a5b-d182-43586b3df228",
        "colab": {
          "base_uri": "https://localhost:8080/",
          "height": 300
        }
      },
      "source": [
        "learner_2 = Learner(dls, model, loss_func=MSELossFlat())\n",
        "learner_2.lr_find()"
      ],
      "execution_count": 32,
      "outputs": [
        {
          "output_type": "display_data",
          "data": {
            "text/html": [
              ""
            ],
            "text/plain": [
              "<IPython.core.display.HTML object>"
            ]
          },
          "metadata": {
            "tags": []
          }
        },
        {
          "output_type": "execute_result",
          "data": {
            "text/plain": [
              "SuggestedLRs(lr_min=0.0033113110810518267, lr_steep=6.309573450380412e-07)"
            ]
          },
          "metadata": {
            "tags": []
          },
          "execution_count": 32
        },
        {
          "output_type": "display_data",
          "data": {
            "image/png": "[encoded data removed]",
            "text/plain": [
              "<Figure size 432x288 with 1 Axes>"
            ]
          },
          "metadata": {
            "tags": [],
            "needs_background": "light"
          }
        }
      ]
    },
    {
      "cell_type": "code",
      "metadata": {
        "id": "VyByWTSro_Bc",
        "outputId": "457dae0d-9657-4d6a-f2c4-c89cf2d16b14",
        "colab": {
          "base_uri": "https://localhost:8080/",
          "height": 254
        }
      },
      "source": [
        "learner_2.fit_one_cycle(7, 3e-3, wd=0.1)"
      ],
      "execution_count": 35,
      "outputs": [
        {
          "output_type": "display_data",
          "data": {
            "text/html": [
              "<table border=\"1\" class=\"dataframe\">\n",
              "  <thead>\n",
              "    <tr style=\"text-align: left;\">\n",
              "      <th>epoch</th>\n",
              "      <th>train_loss</th>\n",
              "      <th>valid_loss</th>\n",
              "      <th>time</th>\n",
              "    </tr>\n",
              "  </thead>\n",
              "  <tbody>\n",
              "    <tr>\n",
              "      <td>0</td>\n",
              "      <td>0.850948</td>\n",
              "      <td>0.883088</td>\n",
              "      <td>00:10</td>\n",
              "    </tr>\n",
              "    <tr>\n",
              "      <td>1</td>\n",
              "      <td>0.889693</td>\n",
              "      <td>0.883500</td>\n",
              "      <td>00:10</td>\n",
              "    </tr>\n",
              "    <tr>\n",
              "      <td>2</td>\n",
              "      <td>0.830417</td>\n",
              "      <td>0.874282</td>\n",
              "      <td>00:10</td>\n",
              "    </tr>\n",
              "    <tr>\n",
              "      <td>3</td>\n",
              "      <td>0.826656</td>\n",
              "      <td>0.857440</td>\n",
              "      <td>00:10</td>\n",
              "    </tr>\n",
              "    <tr>\n",
              "      <td>4</td>\n",
              "      <td>0.758745</td>\n",
              "      <td>0.849849</td>\n",
              "      <td>00:10</td>\n",
              "    </tr>\n",
              "    <tr>\n",
              "      <td>5</td>\n",
              "      <td>0.754061</td>\n",
              "      <td>0.850570</td>\n",
              "      <td>00:10</td>\n",
              "    </tr>\n",
              "    <tr>\n",
              "      <td>6</td>\n",
              "      <td>0.689074</td>\n",
              "      <td>0.854674</td>\n",
              "      <td>00:10</td>\n",
              "    </tr>\n",
              "  </tbody>\n",
              "</table>"
            ],
            "text/plain": [
              "<IPython.core.display.HTML object>"
            ]
          },
          "metadata": {
            "tags": []
          }
        }
      ]
    },
    {
      "cell_type": "code",
      "metadata": {
        "id": "c6kpvnDJpo3U",
        "outputId": "4f7d5d0d-8867-4be5-e747-99b9fbf4f01c",
        "colab": {
          "base_uri": "https://localhost:8080/",
          "height": 300
        }
      },
      "source": [
        "learner_3 = collab_learner(dls, y_range=(0, 5.5), use_nn=True, layers=[100])\n",
        "learner_3.lr_find()"
      ],
      "execution_count": 40,
      "outputs": [
        {
          "output_type": "display_data",
          "data": {
            "text/html": [
              ""
            ],
            "text/plain": [
              "<IPython.core.display.HTML object>"
            ]
          },
          "metadata": {
            "tags": []
          }
        },
        {
          "output_type": "execute_result",
          "data": {
            "text/plain": [
              "SuggestedLRs(lr_min=0.002754228748381138, lr_steep=9.12010818865383e-07)"
            ]
          },
          "metadata": {
            "tags": []
          },
          "execution_count": 40
        },
        {
          "output_type": "display_data",
          "data": {
            "image/png": "[encoded data removed]",
            "text/plain": [
              "<Figure size 432x288 with 1 Axes>"
            ]
          },
          "metadata": {
            "tags": [],
            "needs_background": "light"
          }
        }
      ]
    },
    {
      "cell_type": "code",
      "metadata": {
        "id": "RETLMoN2qbvm",
        "outputId": "1fa31506-fc17-44d9-cfb6-c49904607c42",
        "colab": {
          "base_uri": "https://localhost:8080/",
          "height": 336
        }
      },
      "source": [
        "learner_3.model"
      ],
      "execution_count": 41,
      "outputs": [
        {
          "output_type": "execute_result",
          "data": {
            "text/plain": [
              "EmbeddingNN(\n",
              "  (embeds): ModuleList(\n",
              "    (0): Embedding(944, 74)\n",
              "    (1): Embedding(1665, 102)\n",
              "  )\n",
              "  (emb_drop): Dropout(p=0.0, inplace=False)\n",
              "  (bn_cont): BatchNorm1d(0, eps=1e-05, momentum=0.1, affine=True, track_running_stats=True)\n",
              "  (layers): Sequential(\n",
              "    (0): LinBnDrop(\n",
              "      (0): BatchNorm1d(176, eps=1e-05, momentum=0.1, affine=True, track_running_stats=True)\n",
              "      (1): Linear(in_features=176, out_features=100, bias=False)\n",
              "      (2): ReLU(inplace=True)\n",
              "    )\n",
              "    (1): LinBnDrop(\n",
              "      (0): Linear(in_features=100, out_features=1, bias=True)\n",
              "    )\n",
              "    (2): SigmoidRange(low=0, high=5.5)\n",
              "  )\n",
              ")"
            ]
          },
          "metadata": {
            "tags": []
          },
          "execution_count": 41
        }
      ]
    },
    {
      "cell_type": "code",
      "metadata": {
        "id": "YILADTm4qmZi",
        "outputId": "b48556ca-c3b4-476f-fb1c-4071e7fff915",
        "colab": {
          "base_uri": "https://localhost:8080/",
          "height": 195
        }
      },
      "source": [
        "learner_3.fit_one_cycle(5, 2e-3, wd=0.1)"
      ],
      "execution_count": 42,
      "outputs": [
        {
          "output_type": "display_data",
          "data": {
            "text/html": [
              "<table border=\"1\" class=\"dataframe\">\n",
              "  <thead>\n",
              "    <tr style=\"text-align: left;\">\n",
              "      <th>epoch</th>\n",
              "      <th>train_loss</th>\n",
              "      <th>valid_loss</th>\n",
              "      <th>time</th>\n",
              "    </tr>\n",
              "  </thead>\n",
              "  <tbody>\n",
              "    <tr>\n",
              "      <td>0</td>\n",
              "      <td>0.959676</td>\n",
              "      <td>0.982663</td>\n",
              "      <td>00:10</td>\n",
              "    </tr>\n",
              "    <tr>\n",
              "      <td>1</td>\n",
              "      <td>0.875108</td>\n",
              "      <td>0.911521</td>\n",
              "      <td>00:10</td>\n",
              "    </tr>\n",
              "    <tr>\n",
              "      <td>2</td>\n",
              "      <td>0.825319</td>\n",
              "      <td>0.859834</td>\n",
              "      <td>00:10</td>\n",
              "    </tr>\n",
              "    <tr>\n",
              "      <td>3</td>\n",
              "      <td>0.765532</td>\n",
              "      <td>0.853726</td>\n",
              "      <td>00:10</td>\n",
              "    </tr>\n",
              "    <tr>\n",
              "      <td>4</td>\n",
              "      <td>0.651460</td>\n",
              "      <td>0.860419</td>\n",
              "      <td>00:10</td>\n",
              "    </tr>\n",
              "  </tbody>\n",
              "</table>"
            ],
            "text/plain": [
              "<IPython.core.display.HTML object>"
            ]
          },
          "metadata": {
            "tags": []
          }
        }
      ]
    }
  ]
}